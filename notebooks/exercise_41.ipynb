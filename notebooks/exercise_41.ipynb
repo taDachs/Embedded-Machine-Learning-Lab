{
 "cells": [
  {
   "cell_type": "markdown",
   "id": "great-details",
   "metadata": {},
   "source": [
    "# Embedded ML Lab - Challenge (training yolo example)\n",
    "\n",
    "This is an example of training with the VOC data set and tinyyolov2. Since training tinyyolo from scratch takes a very long time we start with pretrained weights."
   ]
  },
  {
   "cell_type": "code",
   "execution_count": 1,
   "id": "92f25826",
   "metadata": {},
   "outputs": [],
   "source": [
    "import torch\n",
    "\n",
    "# A subset of VOCDataLoader just for one class (person) (0)\n",
    "from faf.utils.dataloader import VOCDataLoaderPerson\n",
    "\n",
    "loader = VOCDataLoaderPerson(train=True, batch_size=128, shuffle=True, path=\"../data\")\n",
    "loader_test = VOCDataLoaderPerson(train=False, batch_size=1, path=\"../data\")\n",
    "\n",
    "from faf.tinyyolov2 import TinyYoloV2\n",
    "from faf.utils.loss import YoloLoss\n",
    "import tqdm"
   ]
  },
  {
   "cell_type": "code",
   "execution_count": 3,
   "id": "better-combat",
   "metadata": {},
   "outputs": [],
   "source": [
    "# We define a tinyyolo network with only two possible classes\n",
    "net = TinyYoloV2(num_classes=1)\n",
    "sd = torch.load(\"../weights/voc_pretrained.pt\")\n",
    "\n",
    "#We load all parameters from the pretrained dict except for the last layer\n",
    "net.load_state_dict({k: v for k, v in sd.items() if not '9' in k}, strict=False)\n",
    "net.eval()\n",
    "\n",
    "# Definition of the loss\n",
    "criterion = YoloLoss(anchors=net.anchors)\n",
    "\n",
    "#We only train the last layer (conv9)\n",
    "for key, param in net.named_parameters():\n",
    "    if any(x in key for x in ['1', '2', '3', '4', '5', '6', '7']):\n",
    "        param.requires_grad = False\n",
    "\n",
    "optimizer = torch.optim.Adam(filter(lambda x: x.requires_grad, net.parameters()), lr=0.001)"
   ]
  },
  {
   "cell_type": "code",
   "execution_count": null,
   "id": "driving-reception",
   "metadata": {},
   "outputs": [
    {
     "name": "stderr",
     "output_type": "stream",
     "text": [
      "100%|██████████| 350/350 [01:07<00:00,  5.20it/s]"
     ]
    },
    {
     "name": "stdout",
     "output_type": "stream",
     "text": [
      "average precision [0.09151928629157119]\n"
     ]
    },
    {
     "name": "stderr",
     "output_type": "stream",
     "text": [
      "\n"
     ]
    },
    {
     "data": {
      "image/png": "[encoded data removed]",
      "text/plain": [
       "<Figure size 432x288 with 1 Axes>"
      ]
     },
     "metadata": {
      "needs_background": "light"
     },
     "output_type": "display_data"
    },
    {
     "name": "stderr",
     "output_type": "stream",
     "text": [
      " 71%|███████   | 12/17 [00:47<00:19,  3.98s/it]"
     ]
    }
   ],
   "source": [
    "from faf.utils.ap import precision_recall_levels, ap, display_roc\n",
    "from faf.utils.yolo import nms, filter_boxes\n",
    "\n",
    "NUM_TEST_SAMPLES = 350\n",
    "NUM_EPOCHS = 15\n",
    "test_AP = []\n",
    "\n",
    "for epoch in range(NUM_EPOCHS):\n",
    "    if epoch != 0:\n",
    "        for idx, (input, target) in tqdm.tqdm(enumerate(loader), total=len(loader)):\n",
    "\n",
    "            optimizer.zero_grad()\n",
    "\n",
    "            #Yolo head is implemented in the loss for training, therefore yolo=False\n",
    "            output = net(input, yolo=False)\n",
    "            loss, _ = criterion(output, target)\n",
    "            loss.backward()\n",
    "            optimizer.step()\n",
    "\n",
    "            \n",
    "    test_precision = []\n",
    "    test_recall = []\n",
    "    with torch.no_grad():\n",
    "        for idx, (input, target) in tqdm.tqdm(enumerate(loader_test), total=NUM_TEST_SAMPLES):\n",
    "            output = net(input, yolo=True)\n",
    "            \n",
    "            #The right threshold values can be adjusted for the target application\n",
    "            output = filter_boxes(output, 0.0)\n",
    "            output = nms(output, 0.5)\n",
    "            \n",
    "            precision, recall = precision_recall_levels(target[0], output[0])\n",
    "            test_precision.append(precision)\n",
    "            test_recall.append(recall)\n",
    "            if idx == NUM_TEST_SAMPLES:\n",
    "                break\n",
    "                \n",
    "    #Calculation of average precision with collected samples\n",
    "    test_AP.append(ap(test_precision, test_recall))\n",
    "    print('average precision', test_AP)\n",
    "\n",
    "    #plot ROC\n",
    "    display_roc(test_precision, test_recall)\n",
    "            \n",
    "            "
   ]
  },
  {
   "cell_type": "code",
   "execution_count": null,
   "id": "fe1c5c82-6a7a-4236-ba53-c2328560c198",
   "metadata": {},
   "outputs": [],
   "source": []
  }
 ],
 "metadata": {
  "kernelspec": {
   "display_name": "Python 3",
   "language": "python",
   "name": "python3"
  },
  "language_info": {
   "codemirror_mode": {
    "name": "ipython",
    "version": 3
   },
   "file_extension": ".py",
   "mimetype": "text/x-python",
   "name": "python",
   "nbconvert_exporter": "python",
   "pygments_lexer": "ipython3",
   "version": "3.6.9"
  }
 },
 "nbformat": 4,
 "nbformat_minor": 5
}
