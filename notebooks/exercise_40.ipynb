{
 "cells": [
  {
   "cell_type": "markdown",
   "id": "blocked-second",
   "metadata": {},
   "source": [
    "# Embedded ML Lab - Challenge (testing yolo example)\n",
    "\n",
    "This is an example of inference with the VOC data set and tinyyolov2. There are pretrained weights (`voc_pretrained.pt`) stored that can be loaded into the model."
   ]
  },
  {
   "cell_type": "code",
   "execution_count": null,
   "id": "verified-celebrity",
   "metadata": {},
   "outputs": [],
   "source": [
    "import torch\n",
    "\n",
    "from utils.dataloader import VOCDataLoader\n",
    "loader = VOCDataLoader(train=False, batch_size=1)"
   ]
  },
  {
   "cell_type": "code",
   "execution_count": null,
   "id": "devoted-percentage",
   "metadata": {},
   "outputs": [],
   "source": [
    "from tinyyolov2 import TinyYoloV2\n",
    "from utils.yolo import nms, filter_boxes\n",
    "from utils.viz import display_result\n",
    "\n",
    "# make an instance with 20 classes as output\n",
    "net = TinyYoloV2(num_classes=20)\n",
    "\n",
    "# load pretrained weights\n",
    "sd = torch.load(\"voc_pretrained.pt\")\n",
    "net.load_state_dict(sd)\n",
    "\n",
    "#put network in evaluation mode\n",
    "net.eval()"
   ]
  },
  {
   "cell_type": "code",
   "execution_count": null,
   "id": "transsexual-uganda",
   "metadata": {},
   "outputs": [],
   "source": [
    "import tqdm\n",
    "for idx, (input, target) in tqdm.tqdm(enumerate(loader), total=len(loader)):\n",
    "    \n",
    "    #input is a 1 x 3 x 320 x 320 image\n",
    "    output = net(input)\n",
    "    \"output is of a tensor of size 32 x 125 x 10 x 10\"\n",
    "    #output is a 32 x 125 x 10 x 10 tensor\n",
    "    \n",
    "    #filter boxes based on confidence score (class_score*confidence)\n",
    "    output = filter_boxes(output, 0.1)\n",
    "    \n",
    "    #filter boxes based on overlap\n",
    "    output = nms(output, 0.25)\n",
    "    \n",
    "    display_result(input, output, target, file_path='yolo_prediction.png')"
   ]
  }
 ],
 "metadata": {
  "kernelspec": {
   "display_name": "Python 3 (ipykernel)",
   "language": "python",
   "name": "python3"
  },
  "language_info": {
   "codemirror_mode": {
    "name": "ipython",
    "version": 3
   },
   "file_extension": ".py",
   "mimetype": "text/x-python",
   "name": "python",
   "nbconvert_exporter": "python",
   "pygments_lexer": "ipython3",
   "version": "3.8.10"
  },
  "vscode": {
   "interpreter": {
    "hash": "31f2aee4e71d21fbe5cf8b01ff0e069b9275f58929596ceb00d14d90e3e16cd6"
   }
  }
 },
 "nbformat": 4,
 "nbformat_minor": 5
}
